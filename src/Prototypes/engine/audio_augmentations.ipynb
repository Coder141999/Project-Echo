{
 "cells": [
  {
   "cell_type": "code",
   "execution_count": 1,
   "metadata": {},
   "outputs": [],
   "source": [
    "import audiomentations as A\n",
    "import librosa\n",
    "import soundfile as sf\n",
    "import os"
   ]
  },
  {
   "cell_type": "markdown",
   "metadata": {},
   "source": [
    "# Augmentations\n",
    "\n",
    "The objective of this function is to enhance audio files, thereby expanding the dataset with diverse variations. Currently, we're incorporating eight types of Augmentation, a number that can be effortlessly expanded in the future by simply appending an additional index to both the function and the dictionary."
   ]
  },
  {
   "cell_type": "code",
   "execution_count": 9,
   "metadata": {},
   "outputs": [],
   "source": [
    "aug_mapping = {0: 'TimeStretch', 1: 'PitchShift', 2: 'BackgroundNoise', 3: 'ShortNoises', 4: 'TimeMask', 5: 'SevenBandParametricEQ', 6: 'Padding', 7: 'AddGaussianSNR'}\n",
    "\n",
    "\n",
    "def index_to_transformation(index: int, background = None):\n",
    "    if background:\n",
    "        backgroung_noise_path = f\"D:/noises/{background}\" # path to custom background noise\n",
    "    else:\n",
    "        backgroung_noise_path = \"D:/noises/heavy_rain.wav\" # path to default background noise\n",
    "    short_noise_path = \"D:/noises/horn.wav\" # path to short noise/noises directory\n",
    "\n",
    "    if index == 0:\n",
    "        return A.TimeStretch(min_rate=0.9, max_rate=1.1,p=1.0) # TimeStretch: Changes the speed without changing the pitch\n",
    "    elif index == 1:\n",
    "        return A.PitchShift(min_semitones=-2, max_semitones=2,p=1.0) # PitchShift: Shifts the pitch up or down without changing the tempo\n",
    "    elif index == 2:\n",
    "        return A.AddBackgroundNoise(sounds_path= backgroung_noise_path, p=1.0) # AddBackgroundNoise: Mixes in another sound to add background noise\n",
    "    elif index == 3:\n",
    "        return A.AddShortNoises(sounds_path= short_noise_path, p=1.0) # AddShortNoises: Mixes in various short noise sounds\n",
    "    elif index == 4:\n",
    "        return A.TimeMask(min_band_part=0.1, max_band_part=0.15, fade=True, p=1.0) # TimeMask: Makes a random part of the audio silent\n",
    "    elif index == 5:\n",
    "        return A.SevenBandParametricEQ(p=1.0) # SevenBandParametricEQ: Adjusts the volume of 7 frequency bands\n",
    "    elif index == 6:\n",
    "        return A.Padding(p=1.0) # Padding: Replaces a random part of the beginning or end with padding\n",
    "    elif index == 7:\n",
    "        return A.AddGaussianSNR(p=1.0, min_snr_in_db=30, max_snr_in_db=90) # AddGaussianSNR: Injects gaussian noise using a randomly chosen signal-to-noise ratio"
   ]
  },
  {
   "cell_type": "markdown",
   "metadata": {},
   "source": [
    "# Implementation\n",
    "\n",
    "To execute the procedure, it's necessary to define the paths for both our data and output directories. Subsequently, subfolders for each augmentation are established within the output directory, wherein the newly augmented files are stored in a format identical to that found in the data directory."
   ]
  },
  {
   "cell_type": "code",
   "execution_count": 22,
   "metadata": {},
   "outputs": [
    {
     "name": "stderr",
     "output_type": "stream",
     "text": [
      "c:\\Users\\DELL\\anaconda3\\envs\\dev\\lib\\site-packages\\audiomentations\\core\\audio_loading_utils.py:37: UserWarning: D:\\noises\\heavy_rain.wav had to be resampled from 44100 hz to 22050 hz. This hurt execution time.\n",
      "  warnings.warn(\n",
      "c:\\Users\\DELL\\anaconda3\\envs\\dev\\lib\\site-packages\\audiomentations\\core\\audio_loading_utils.py:37: UserWarning: D:\\noises\\horn.wav had to be resampled from 44100 hz to 22050 hz. This hurt execution time.\n",
      "  warnings.warn(\n"
     ]
    }
   ],
   "source": [
    "data_directory =  \"D:/data/b3\" # path to your data_directory\n",
    "output_directory = \"D:/augumented_audio/new4\" # path to your output directory\n",
    "\n",
    "for dirpath, dirnames, filenames in os.walk(data_directory):\n",
    "    for filename in filenames:\n",
    "        path = os.path.join(dirpath, filename)\n",
    "        audio, sr = librosa.load(path, sr=None)\n",
    "\n",
    "        for index in range(len(aug_mapping)):\n",
    "            transform = index_to_transformation(index)\n",
    "            augmented_sound  = transform(audio, sample_rate=sr)\n",
    "\n",
    "            file_subfolder = dirpath.split(\"\\\\\")[-1]\n",
    "            output_subfolder = f\"{output_directory}/{aug_mapping[index]}/{file_subfolder}\"\n",
    "            if not os.path.exists(output_subfolder):\n",
    "                os.makedirs(output_subfolder)\n",
    "            \n",
    "            sf.write(f\"{output_subfolder}/{filename}\",augmented_sound, sr)"
   ]
  },
  {
   "cell_type": "code",
   "execution_count": null,
   "metadata": {},
   "outputs": [],
   "source": []
  }
 ],
 "metadata": {
  "kernelspec": {
   "display_name": "dev",
   "language": "python",
   "name": "python3"
  },
  "language_info": {
   "codemirror_mode": {
    "name": "ipython",
    "version": 3
   },
   "file_extension": ".py",
   "mimetype": "text/x-python",
   "name": "python",
   "nbconvert_exporter": "python",
   "pygments_lexer": "ipython3",
   "version": "3.8.16"
  },
  "orig_nbformat": 4
 },
 "nbformat": 4,
 "nbformat_minor": 2
}
